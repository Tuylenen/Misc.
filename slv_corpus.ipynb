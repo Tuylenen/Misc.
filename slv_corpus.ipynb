{
 "cells": [
  {
   "cell_type": "markdown",
   "metadata": {},
   "source": [
    "С javascript я так и не разобралась, так что в метаданных только text.source. И предложения не полные."
   ]
  },
  {
   "cell_type": "code",
   "execution_count": 1,
   "metadata": {},
   "outputs": [
    {
     "name": "stderr",
     "output_type": "stream",
     "text": [
      "\"mlad\": 100%|████████████████████████████████████████████████████████████████████████| 15/15 [00:15<00:00,  1.01s/docs]\n"
     ]
    },
    {
     "data": {
      "text/plain": [
       "[Result(query=mlad, N=15, params={'numResults': 15, 'kwic': True, 'nLeft': None, 'nRight': None, 'queryLanguage': None, 'subcorpus': 'kres', 'tag': False, 'start': 0, 'writingSystem': None})]"
      ]
     },
     "execution_count": 1,
     "metadata": {},
     "output_type": "execute_result"
    }
   ],
   "source": [
    "from lingcorpora import Corpus\n",
    "rus_corp = Corpus('slv')\n",
    "rus_results = rus_corp.search('mlad', numResults = 15)\n",
    "rus_results"
   ]
  },
  {
   "cell_type": "code",
   "execution_count": 2,
   "metadata": {},
   "outputs": [
    {
     "name": "stdout",
     "output_type": "stream",
     "text": [
      "1 Avto, podobno kakor njegov lastnik, ni rosno mlad \n",
      "2 nasvet najprej zase, da se bodo znali in zmogli pogovoriti z mladim zasvojencem\n",
      "3 časa in napora, kar je zlasti pomembno za bolnega človeka in mlajše otroke\n",
      "4 pet let starejšo od mene, eno leto starejšega in šestnajst let mlajšega brata\n",
      "5 Kosovo je v nedeljo postalo najmlajša država na svetu\n",
      "6 Zadaj sem videl še nekaj mladih moških, mogoče tudi eno žensko\n",
      "7 Nedvomno je, da med velikim številom mladih vlada »kriza smisla« – to dokazuje porast zlorab drog, samomorov\n",
      "8 Ko mladega človeka pripravljamo na to, da si bo nekoč sam služil kruh,\n",
      "9 življenje zahteva, da je učenje v zelo veliki meri prisotno v mladih letih, s starostjo in zrelostjo pa se njegov delež zmanjšuje\n",
      "10 »Formalnosti niso pomembne,« ga pomiri mladi imam\n",
      "11 Le kaj več, za božjo voljo, bi lahko mladi vodilni uslužbenci pričakovali od jezikovne šole\n",
      "12 Je že kdaj kak mladi mož preživljal tako naporne dneve\n",
      "13 Za najmlajše smučarje poskrbijo v vrtcu na snegu\n",
      "14 Skrbel je za izobrazbo nadarjenih mlajših rojakov; eden izmed njih – Jurij Dalmatin – je leta 1584 izdal\n",
      "15 Kovinska vrata so zaklenjena, toda v ogradi sta mlada srnjaka in po vsem sodeč si zelo želita ven\n"
     ]
    }
   ],
   "source": [
    "for result in rus_results:\n",
    "    for i, target in enumerate(result):\n",
    "        print(i+1, target.text)"
   ]
  },
  {
   "cell_type": "code",
   "execution_count": 3,
   "metadata": {},
   "outputs": [
    {
     "name": "stdout",
     "output_type": "stream",
     "text": [
      "1 kakor njegov lastnik, ni rosno\tmlad\t\n",
      "2 znali in zmogli pogovoriti z\tmladim\tzasvojencem\n",
      "3 pomembno za bolnega človeka in\tmlajše\totroke\n",
      "4 leto starejšega in šestnajst let\tmlajšega\tbrata\n",
      "5 Kosovo je v nedeljo postalo\tnajmlajša\tdržava na svetu\n",
      "6 Zadaj sem videl še nekaj\tmladih\tmoških, mogoče tudi eno žensko\n",
      "7 je, da med velikim številom\tmladih\tvlada »kriza smisla« – to\n",
      "8 Ko\tmladega\tčloveka pripravljamo na to, da\n",
      "9 zelo veliki meri prisotno v\tmladih\tletih, s starostjo in zrelostjo\n",
      "10 »Formalnosti niso pomembne,« ga pomiri\tmladi\timam\n",
      "11 za božjo voljo, bi lahko\tmladi\tvodilni uslužbenci pričakovali od jezikovne\n",
      "12 Je že kdaj kak\tmladi\tmož preživljal tako naporne dneve\n",
      "13 Za\tnajmlajše\tsmučarje poskrbijo v vrtcu na\n",
      "14 Skrbel je za izobrazbo nadarjenih\tmlajših\trojakov; eden izmed njih –\n",
      "15 zaklenjena, toda v ogradi sta\tmlada\tsrnjaka in po vsem sodeč\n"
     ]
    }
   ],
   "source": [
    "for result in rus_results:\n",
    "    for i, target in enumerate(result):\n",
    "        print(i+1,'\\t'.join(target.kwic(left=5,right=5)))"
   ]
  },
  {
   "cell_type": "code",
   "execution_count": 4,
   "metadata": {},
   "outputs": [
    {
     "name": "stdout",
     "output_type": "stream",
     "text": [
      "1 {'lemma': 'mlad', 'PoS': 'P', 'tag': 'pnmein'}\n",
      "2 {'lemma': 'mlad', 'PoS': 'P', 'tag': 'pnmmd'}\n",
      "3 {'lemma': 'mlad', 'PoS': 'P', 'tag': 'ppmmt'}\n",
      "4 {'lemma': 'mlad', 'PoS': 'P', 'tag': 'ppmer'}\n",
      "5 {'lemma': 'mlad', 'PoS': 'P', 'tag': 'pszei'}\n",
      "6 {'lemma': 'mlad', 'PoS': 'P', 'tag': 'pnmmr'}\n",
      "7 {'lemma': 'mlad', 'PoS': 'P', 'tag': 'pnmmr'}\n",
      "8 {'lemma': 'mlad', 'PoS': 'P', 'tag': 'pnmer'}\n",
      "9 {'lemma': 'mlad', 'PoS': 'P', 'tag': 'pnmmm'}\n",
      "10 {'lemma': 'mlad', 'PoS': 'P', 'tag': 'pnmeid'}\n",
      "11 {'lemma': 'mlad', 'PoS': 'P', 'tag': 'pnmmi'}\n",
      "12 {'lemma': 'mlad', 'PoS': 'P', 'tag': 'pnmeid'}\n",
      "13 {'lemma': 'mlad', 'PoS': 'P', 'tag': 'psmmt'}\n",
      "14 {'lemma': 'mlad', 'PoS': 'P', 'tag': 'ppmmr'}\n",
      "15 {'lemma': 'mlad', 'PoS': 'P', 'tag': 'pnmdi'}\n"
     ]
    }
   ],
   "source": [
    "for result in rus_results:\n",
    "    for i, target in enumerate(result):\n",
    "        print(i+1, target.tags)"
   ]
  },
  {
   "cell_type": "code",
   "execution_count": 5,
   "metadata": {},
   "outputs": [
    {
     "name": "stdout",
     "output_type": "stream",
     "text": [
      "1 Mladinska knjiga\n",
      "2 drugo\n",
      "3 drugo\n",
      "4 drugo\n",
      "5 drugo\n",
      "6 Mladinska knjiga\n",
      "7 drugo\n",
      "8 drugo\n",
      "9 drugo\n",
      "10 Mladinska knjiga\n",
      "11 Mladinska knjiga\n",
      "12 Mladinska knjiga\n",
      "13 drugo\n",
      "14 drugo\n",
      "15 Mladinska knjiga\n"
     ]
    }
   ],
   "source": [
    "for result in rus_results:\n",
    "    for i, target in enumerate(result):\n",
    "        print(i+1, target.meta)"
   ]
  },
  {
   "cell_type": "code",
   "execution_count": 6,
   "metadata": {},
   "outputs": [
    {
     "name": "stdout",
     "output_type": "stream",
     "text": [
      "1 (45, 49)\n",
      "2 (61, 67)\n",
      "3 (61, 67)\n",
      "4 (63, 71)\n",
      "5 (28, 37)\n",
      "6 (25, 31)\n",
      "7 (37, 43)\n",
      "8 (3, 10)\n",
      "9 (62, 68)\n",
      "10 (39, 44)\n",
      "11 (37, 42)\n",
      "12 (15, 20)\n",
      "13 (3, 12)\n",
      "14 (34, 41)\n",
      "15 (48, 53)\n"
     ]
    }
   ],
   "source": [
    "for result in rus_results:\n",
    "    for i, target in enumerate(result):\n",
    "        print(i+1, target.idxs)"
   ]
  },
  {
   "cell_type": "code",
   "execution_count": 7,
   "metadata": {},
   "outputs": [
    {
     "name": "stderr",
     "output_type": "stream",
     "text": [
      "\"rosno\": 100%|█████████████████████████████████████████████████████████████████████████| 5/5 [00:02<00:00,  2.47docs/s]\n",
      "\"postalo\": 100%|███████████████████████████████████████████████████████████████████████| 5/5 [00:02<00:00,  2.45docs/s]\n",
      "\"več\": 100%|███████████████████████████████████████████████████████████████████████████| 5/5 [00:02<00:00,  2.42docs/s]\n"
     ]
    },
    {
     "name": "stdout",
     "output_type": "stream",
     "text": [
      "1 računal, da bo prišlo vse tako hitro, pa čeprav vem, da nisem več rosno mlad\n",
      "2 Vedela je, da bom to razumela, čeprav sem bila takrat še rosno mlada\n",
      "3 Avto, podobno kakor njegov lastnik, ni rosno mlad\n",
      "4 Vendar pa se kasneje, ko zveza ni več tako rosno nova, pojavijo določene spremembe\n",
      "5 izbor) Miran Burgič je manj kot dve leti starejši, a še vedno rosno mlad, saj je 25\n",
      "\n",
      "1  Postalo je hladno in stresla sem se\n",
      "2 Haiderjeva druščina ni zmožna resne vladne odgovornosti, je pač postalo jasno razmeroma kmalu\n",
      "3 sta se pojavila dva in se je tretji vanj začel spreminjati, je postalo neokusno\n",
      "4 Prepričana je, da se bo nekega dne njeno življenje spremenilo, postalo čudovito in vznemirljivo\n",
      "5 bili odkriti, odkriti že od samega začetka, bi to prav vsem postalo jasno\n",
      "\n",
      "1 Božena Drnovšek iz službe za odnose z javnostmi, odgovor pa je več kot zgovoren\n",
      "2 O njegovi smrti pri 51 letih sicer obstaja več teorij\n",
      "3 torej Udba posebej bala oziroma je želela o njih vedeti čim več \n",
      "4 zgodilo, nasprotno, napadov in neupravičenih kritik je bilo še več kot običajno\n",
      "5 spletni dnevnik postal nadvse aktualen in danes jih obstaja že več milijonov\n",
      "\n"
     ]
    }
   ],
   "source": [
    "rus_results = rus_corp.search(['rosno', 'postalo', 'več'], numResults = 5)\n",
    "for result in rus_results:\n",
    "    for i, target in enumerate(result):\n",
    "        print(i+1, target.text)\n",
    "    print()"
   ]
  },
  {
   "cell_type": "code",
   "execution_count": null,
   "metadata": {
    "collapsed": true
   },
   "outputs": [],
   "source": []
  },
  {
   "cell_type": "code",
   "execution_count": null,
   "metadata": {
    "collapsed": true
   },
   "outputs": [],
   "source": []
  }
 ],
 "metadata": {
  "kernelspec": {
   "display_name": "Python 3",
   "language": "python",
   "name": "python3"
  },
  "language_info": {
   "codemirror_mode": {
    "name": "ipython",
    "version": 3
   },
   "file_extension": ".py",
   "mimetype": "text/x-python",
   "name": "python",
   "nbconvert_exporter": "python",
   "pygments_lexer": "ipython3",
   "version": "3.6.3"
  }
 },
 "nbformat": 4,
 "nbformat_minor": 2
}
